{
 "cells": [
  {
   "cell_type": "markdown",
   "metadata": {},
   "source": [
    "<span style=\"color: #FF6D6B\">\n",
    "\n",
    "#### Resources\n",
    "</span>\n",
    "\n",
    "- [Link to generate keys](https://polite-ground-030dc3103.4.azurestaticapps.net/event/6424-f827)\n",
    "- [Prompt Engineering](https://www.promptingguide.ai/)\n",
    "- [OpenAI Cookbook for use-cases](https://cookbook.openai.com/)\n",
    "- [Quickstart: Get started using GPT-35-Turbo and GPT-4 with Azure OpenAI Service](https://learn.microsoft.com/azure/ai-services/openai/chatgpt-quickstart)\n",
    "- [Quickstart: Use images in your AI chats](https://learn.microsoft.com/en-us/azure/ai-services/openai/gpt-v-quickstart)\n",
    "- [Learn how to generate embeddings with Azure OpenAI](https://learn.microsoft.com/azure/ai-services/openai/how-to/embeddings)\n",
    "\n",
    "<span style=\"color: #FF6D6B\">\n",
    "\n",
    "#### Model List\n",
    "</span>\n",
    "\n",
    "The following model deployments are available for the hackathon:\n",
    "\n",
    "- Chat completions: gpt-35-turbo-16k, gpt-4-32k, gpt-35-turbo, gpt-4, gpt-4-vision\n",
    "- Text embeddings: text-embedding-3-small (recommended), text-embedding-ada-002\n",
    "\n",
    "<span style=\"color: #805ec7\">\n",
    "Note: You can make up to 5000 (subject to change) model requests per day.\n",
    "</span>\n",
    "\n",
    "\n"
   ]
  },
  {
   "cell_type": "markdown",
   "metadata": {},
   "source": [
    "<span style=\"color: #FF6D6B\">\n",
    "\n",
    "#### Dependencies\n",
    "</span>"
   ]
  },
  {
   "cell_type": "code",
   "execution_count": null,
   "metadata": {},
   "outputs": [],
   "source": [
    "# !pip install openai"
   ]
  },
  {
   "cell_type": "markdown",
   "metadata": {},
   "source": [
    "<span style=\"color: #FF6D6B\">\n",
    "\n",
    "#### Imports\n",
    "</span>"
   ]
  },
  {
   "cell_type": "code",
   "execution_count": null,
   "metadata": {},
   "outputs": [],
   "source": [
    "from openai import AzureOpenAI"
   ]
  },
  {
   "cell_type": "markdown",
   "metadata": {},
   "source": [
    "<span style=\"color: #FF6D6B\">\n",
    "\n",
    "#### Configure and load the model\n",
    "</span>"
   ]
  },
  {
   "cell_type": "code",
   "execution_count": null,
   "metadata": {},
   "outputs": [],
   "source": [
    "ENDPOINT = \"https://polite-ground-030dc3103.4.azurestaticapps.net/api/v1\"\n",
    "API_KEY = \"<YOUR_API_KEY>\"\n",
    "API_VERSION = \"2024-02-01\"\n",
    "MODEL_NAME = \"gpt-35-turbo\"\n",
    "\n",
    "client = AzureOpenAI(\n",
    "    azure_endpoint=ENDPOINT,\n",
    "    api_key=API_KEY,\n",
    "    api_version=API_VERSION,\n",
    ")"
   ]
  },
  {
   "cell_type": "markdown",
   "metadata": {},
   "source": [
    "<span style=\"color: #FF6D6B\">\n",
    "\n",
    "#### Generate text from text inputs\n",
    "</span>"
   ]
  },
  {
   "cell_type": "markdown",
   "metadata": {},
   "source": [
    "<span style=\"color: #30AADD\">\n",
    "\n",
    "##### Without streaming\n",
    "</span>\n"
   ]
  },
  {
   "cell_type": "code",
   "execution_count": null,
   "metadata": {},
   "outputs": [],
   "source": [
    "MESSAGES = [\n",
    "    {\"role\": \"system\", \"content\": \"You are a helpful assistant.\"},\n",
    "    {\"role\": \"user\", \"content\": \"Who won the world series in 2020?\"},\n",
    "    {\n",
    "        \"role\": \"assistant\",\n",
    "        \"content\": \"The Los Angeles Dodgers won the World Series in 2020.\",\n",
    "    },\n",
    "    {\"role\": \"user\", \"content\": \"Where was it played?\"},\n",
    "]"
   ]
  },
  {
   "cell_type": "code",
   "execution_count": null,
   "metadata": {},
   "outputs": [],
   "source": [
    "completion = client.chat.completions.create(\n",
    "    model=MODEL_NAME,\n",
    "    messages=MESSAGES,\n",
    ")\n",
    "\n",
    "print(completion.model_dump_json(indent=2))"
   ]
  }
 ],
 "metadata": {
  "language_info": {
   "name": "python"
  }
 },
 "nbformat": 4,
 "nbformat_minor": 2
}
